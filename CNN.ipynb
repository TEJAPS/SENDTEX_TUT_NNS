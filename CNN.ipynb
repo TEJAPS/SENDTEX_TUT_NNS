{
 "cells": [
  {
   "cell_type": "code",
   "execution_count": 5,
   "metadata": {},
   "outputs": [
    {
     "name": "stdout",
     "output_type": "stream",
     "text": [
      "Train on 22451 samples, validate on 2495 samples\n",
      "Epoch 1/3\n",
      "22451/22451 [==============================] - 273s 12ms/step - loss: 0.6390 - acc: 0.6278 - val_loss: 0.5739 - val_acc: 0.7050\n",
      "Epoch 2/3\n",
      "22451/22451 [==============================] - 284s 13ms/step - loss: 0.5428 - acc: 0.7320 - val_loss: 0.4990 - val_acc: 0.7571\n",
      "Epoch 3/3\n",
      "22451/22451 [==============================] - 271s 12ms/step - loss: 0.4958 - acc: 0.7582 - val_loss: 0.4738 - val_acc: 0.7687\n"
     ]
    },
    {
     "data": {
      "text/plain": [
       "<tensorflow.python.keras.callbacks.History at 0x14b910335c0>"
      ]
     },
     "execution_count": 5,
     "metadata": {},
     "output_type": "execute_result"
    }
   ],
   "source": [
    "import tensorflow as tf\n",
    "from tensorflow.keras.models import Sequential\n",
    "from tensorflow.keras.layers import Dense, Dropout, Activation, Flatten, Conv2D, MaxPooling2D\n",
    "\n",
    "import pickle\n",
    "\n",
    "x = pickle.load(open(\"X_pickle\",\"rb\"))\n",
    "y = pickle.load(open(\"y_pickle\",\"rb\"))\n",
    "\n",
    "#normalize\n",
    "x =x/255.0\n",
    "model = Sequential()\n",
    "model.add(Conv2D(64,(3,3),input_shape = x.shape[1:]) ) #3x3 is window size\n",
    "model.add(Activation(\"relu\"))\n",
    "model.add(MaxPooling2D(pool_size=(2,2)))\n",
    "\n",
    "model.add(Conv2D(64,(3,3)) )\n",
    "model.add(Activation(\"relu\"))\n",
    "model.add(MaxPooling2D(pool_size=(2,2)))\n",
    "\n",
    "model.add(Flatten())\n",
    "model.add(Dense(64))\n",
    "\n",
    "model.add(Dense(1))\n",
    "model.add(Activation(\"sigmoid\"))\n",
    "\n",
    "model.compile(loss=\"binary_crossentropy\",\n",
    "             optimizer = \"adam\",\n",
    "             metrics=['accuracy'])\n",
    "model.fit(x,y,batch_size=32,epochs=3,validation_split=0.1)"
   ]
  },
  {
   "cell_type": "code",
   "execution_count": null,
   "metadata": {},
   "outputs": [],
   "source": [
    " "
   ]
  }
 ],
 "metadata": {
  "kernelspec": {
   "display_name": "Python 3",
   "language": "python",
   "name": "python3"
  },
  "language_info": {
   "codemirror_mode": {
    "name": "ipython",
    "version": 3
   },
   "file_extension": ".py",
   "mimetype": "text/x-python",
   "name": "python",
   "nbconvert_exporter": "python",
   "pygments_lexer": "ipython3",
   "version": "3.6.5"
  }
 },
 "nbformat": 4,
 "nbformat_minor": 2
}
